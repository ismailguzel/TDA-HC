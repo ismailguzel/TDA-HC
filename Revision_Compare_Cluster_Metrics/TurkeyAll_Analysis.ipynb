{
 "cells": [
  {
   "cell_type": "code",
   "execution_count": 1,
   "id": "506df839",
   "metadata": {},
   "outputs": [],
   "source": [
    "import warnings\n",
    "warnings.filterwarnings(\"ignore\", category=RuntimeWarning)\n",
    "from functions_scores import *\n",
    "dataname = 'Turkey'\n",
    "X = pd.read_csv(\"Original_Coordinates.csv\")\n",
    "X_sc = MinMaxScaler().fit_transform(X.loc[:,['x','y']])\n",
    "pt_cloud = X_sc"
   ]
  },
  {
   "cell_type": "code",
   "execution_count": 2,
   "id": "d22b3547",
   "metadata": {},
   "outputs": [],
   "source": [
    "# rc = gd.RipsComplex(pt_cloud, max_edge_length = maxDist(pt_cloud)/2)\n",
    "# st = rc.create_simplex_tree(max_dimension = 2)\n",
    "# L = st.get_filtration()\n",
    "# my_data =[list(simplex) for simplex in L]"
   ]
  },
  {
   "cell_type": "code",
   "execution_count": 3,
   "id": "7b29026c",
   "metadata": {},
   "outputs": [
    {
     "name": "stdout",
     "output_type": "stream",
     "text": [
      "Maksimum epsilon değeri: 0.61\n",
      "Matris Boyutları: 81\n"
     ]
    }
   ],
   "source": [
    "# Sage için gerekli bilgiler\n",
    "print(\"Maksimum epsilon değeri:\", np.round(maxDist(pt_cloud)/2,2))\n",
    "print(\"Matris Boyutları:\", pt_cloud.shape[0])"
   ]
  },
  {
   "cell_type": "code",
   "execution_count": 4,
   "id": "018e5b1c",
   "metadata": {},
   "outputs": [],
   "source": [
    "# with open('Complexes_Data/'+ dataname +'_complexes.txt', \"w\") as file:  # save the simplices with epsilon to use in SageMath\n",
    "#     file.write(json.dumps(my_data))\n",
    "# file.close()"
   ]
  },
  {
   "cell_type": "markdown",
   "id": "c567fef7",
   "metadata": {},
   "source": [
    "# After Sage"
   ]
  },
  {
   "cell_type": "code",
   "execution_count": 5,
   "id": "c6b45f42",
   "metadata": {},
   "outputs": [],
   "source": [
    "Methods = ['single',  'average', 'complete', 'ward']\n",
    "Metrics = ['braycurtis', 'cosine', 'euclidean','cityblock']\n",
    "# n_cluster  = len(np.unique(y))\n",
    "n_cluster = 7"
   ]
  },
  {
   "cell_type": "markdown",
   "id": "784dd0fc",
   "metadata": {},
   "source": [
    "## Homological and Minkowski Distance with p = 1/2"
   ]
  },
  {
   "cell_type": "code",
   "execution_count": 6,
   "id": "60409b01",
   "metadata": {},
   "outputs": [],
   "source": [
    "hom_distance = All2One(\"Matrix_Data/\"+ dataname + \"_result/*.npy\")\n",
    "minkowski = squareform(pdist(pt_cloud, minkowski_distance))"
   ]
  },
  {
   "cell_type": "markdown",
   "id": "d953d62f",
   "metadata": {},
   "source": [
    "# Silhouette Scores"
   ]
  },
  {
   "cell_type": "code",
   "execution_count": 7,
   "id": "c15b0420",
   "metadata": {},
   "outputs": [
    {
     "data": {
      "text/html": [
       "<div>\n",
       "<style scoped>\n",
       "    .dataframe tbody tr th:only-of-type {\n",
       "        vertical-align: middle;\n",
       "    }\n",
       "\n",
       "    .dataframe tbody tr th {\n",
       "        vertical-align: top;\n",
       "    }\n",
       "\n",
       "    .dataframe thead th {\n",
       "        text-align: right;\n",
       "    }\n",
       "</style>\n",
       "<table border=\"1\" class=\"dataframe\">\n",
       "  <thead>\n",
       "    <tr style=\"text-align: right;\">\n",
       "      <th></th>\n",
       "      <th>silhouette_score</th>\n",
       "      <th>method</th>\n",
       "    </tr>\n",
       "  </thead>\n",
       "  <tbody>\n",
       "    <tr>\n",
       "      <th>braycurtis</th>\n",
       "      <td>0.308705</td>\n",
       "      <td>ward</td>\n",
       "    </tr>\n",
       "    <tr>\n",
       "      <th>cosine</th>\n",
       "      <td>0.049513</td>\n",
       "      <td>ward</td>\n",
       "    </tr>\n",
       "    <tr>\n",
       "      <th>euclidean</th>\n",
       "      <td>0.389017</td>\n",
       "      <td>average</td>\n",
       "    </tr>\n",
       "    <tr>\n",
       "      <th>cityblock</th>\n",
       "      <td>0.385608</td>\n",
       "      <td>complete</td>\n",
       "    </tr>\n",
       "    <tr>\n",
       "      <th>minkowski</th>\n",
       "      <td>0.361855</td>\n",
       "      <td>complete</td>\n",
       "    </tr>\n",
       "    <tr>\n",
       "      <th>homological</th>\n",
       "      <td>0.515658</td>\n",
       "      <td>average</td>\n",
       "    </tr>\n",
       "  </tbody>\n",
       "</table>\n",
       "</div>"
      ],
      "text/plain": [
       "            silhouette_score    method\n",
       "braycurtis          0.308705      ward\n",
       "cosine              0.049513      ward\n",
       "euclidean           0.389017   average\n",
       "cityblock           0.385608  complete\n",
       "minkowski           0.361855  complete\n",
       "homological         0.515658   average"
      ]
     },
     "execution_count": 7,
     "metadata": {},
     "output_type": "execute_result"
    }
   ],
   "source": [
    "Unsup_Silhoutte = Sil_Scores(Methods, Metrics, pt_cloud, minkowski, hom_distance, 7, silhouette_score)\n",
    "Unsup_Silhoutte"
   ]
  },
  {
   "cell_type": "code",
   "execution_count": 8,
   "id": "71a1675d",
   "metadata": {},
   "outputs": [],
   "source": [
    "Unsup_Silhoutte.to_csv('Scores/'+ dataname +'/silhouette.csv')"
   ]
  },
  {
   "cell_type": "code",
   "execution_count": 11,
   "id": "fa5f9e0b",
   "metadata": {},
   "outputs": [
    {
     "data": {
      "image/png": "[encoded data removed]",
      "text/plain": [
       "<Figure size 720x432 with 1 Axes>"
      ]
     },
     "metadata": {
      "needs_background": "light"
     },
     "output_type": "display_data"
    }
   ],
   "source": [
    "sil_score_plot_1(Methods, Metrics,pt_cloud, minkowski, hom_distance, np.arange(2,13), silhouette_score, dataname)"
   ]
  },
  {
   "cell_type": "code",
   "execution_count": 12,
   "id": "bed05910",
   "metadata": {},
   "outputs": [
    {
     "data": {
      "text/html": [
       "<div>\n",
       "<style scoped>\n",
       "    .dataframe tbody tr th:only-of-type {\n",
       "        vertical-align: middle;\n",
       "    }\n",
       "\n",
       "    .dataframe tbody tr th {\n",
       "        vertical-align: top;\n",
       "    }\n",
       "\n",
       "    .dataframe thead th {\n",
       "        text-align: right;\n",
       "    }\n",
       "</style>\n",
       "<table border=\"1\" class=\"dataframe\">\n",
       "  <thead>\n",
       "    <tr style=\"text-align: right;\">\n",
       "      <th></th>\n",
       "      <th>single</th>\n",
       "      <th>average</th>\n",
       "      <th>complete</th>\n",
       "      <th>ward</th>\n",
       "    </tr>\n",
       "  </thead>\n",
       "  <tbody>\n",
       "    <tr>\n",
       "      <th>braycurtis</th>\n",
       "      <td>0.535164</td>\n",
       "      <td>1.473768</td>\n",
       "      <td>1.605485</td>\n",
       "      <td>1.847436</td>\n",
       "    </tr>\n",
       "    <tr>\n",
       "      <th>cosine</th>\n",
       "      <td>1.395522</td>\n",
       "      <td>1.814658</td>\n",
       "      <td>1.838036</td>\n",
       "      <td>1.897992</td>\n",
       "    </tr>\n",
       "    <tr>\n",
       "      <th>euclidean</th>\n",
       "      <td>0.694994</td>\n",
       "      <td>1.911295</td>\n",
       "      <td>1.901718</td>\n",
       "      <td>1.890123</td>\n",
       "    </tr>\n",
       "    <tr>\n",
       "      <th>cityblock</th>\n",
       "      <td>0.90507</td>\n",
       "      <td>1.894193</td>\n",
       "      <td>1.902189</td>\n",
       "      <td>1.888911</td>\n",
       "    </tr>\n",
       "    <tr>\n",
       "      <th>minkowski</th>\n",
       "      <td>0.90507</td>\n",
       "      <td>1.894193</td>\n",
       "      <td>1.902189</td>\n",
       "      <td>1.888911</td>\n",
       "    </tr>\n",
       "    <tr>\n",
       "      <th>homological</th>\n",
       "      <td>0.90507</td>\n",
       "      <td>1.894193</td>\n",
       "      <td>1.902189</td>\n",
       "      <td>1.888911</td>\n",
       "    </tr>\n",
       "  </tbody>\n",
       "</table>\n",
       "</div>"
      ],
      "text/plain": [
       "               single   average  complete      ward\n",
       "braycurtis   0.535164  1.473768  1.605485  1.847436\n",
       "cosine       1.395522  1.814658  1.838036  1.897992\n",
       "euclidean    0.694994  1.911295  1.901718  1.890123\n",
       "cityblock     0.90507  1.894193  1.902189  1.888911\n",
       "minkowski     0.90507  1.894193  1.902189  1.888911\n",
       "homological   0.90507  1.894193  1.902189  1.888911"
      ]
     },
     "execution_count": 12,
     "metadata": {},
     "output_type": "execute_result"
    }
   ],
   "source": [
    "Entropy(Methods, Metrics, pt_cloud, minkowski, hom_distance, n_cluster)"
   ]
  },
  {
   "cell_type": "markdown",
   "id": "2926af94",
   "metadata": {},
   "source": [
    "---------------------------"
   ]
  }
 ],
 "metadata": {
  "kernelspec": {
   "display_name": "Python 3",
   "language": "python",
   "name": "python3"
  },
  "language_info": {
   "codemirror_mode": {
    "name": "ipython",
    "version": 3
   },
   "file_extension": ".py",
   "mimetype": "text/x-python",
   "name": "python",
   "nbconvert_exporter": "python",
   "pygments_lexer": "ipython3",
   "version": "3.8.10"
  }
 },
 "nbformat": 4,
 "nbformat_minor": 5
}
